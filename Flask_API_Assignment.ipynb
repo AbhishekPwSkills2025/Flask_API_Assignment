{
 "cells": [
  {
   "cell_type": "markdown",
   "id": "26da018b",
   "metadata": {},
   "source": [
    "# Flask API Assignment\n",
    "\n",
    "This assignment covers theoretical and practical questions about building APIs with Flask."
   ]
  },
  {
   "cell_type": "markdown",
   "id": "a7051e68",
   "metadata": {},
   "source": [
    "### Q: What is a RESTful API?\n",
    "\n",
    "**A:** A RESTful API is an API that follows REST (Representational State Transfer) principles, using HTTP methods for CRUD operations and stateless communication."
   ]
  },
  {
   "cell_type": "markdown",
   "id": "204dea09",
   "metadata": {},
   "source": [
    "### Q: Explain the concept of API specification\n",
    "\n",
    "**A:** API specification defines the structure, endpoints, request and response formats of an API to ensure consistency and clarity for developers."
   ]
  },
  {
   "cell_type": "markdown",
   "id": "81ff7f5b",
   "metadata": {},
   "source": [
    "### Q: What is Flask, and why is it popular for building APIs?\n",
    "\n",
    "**A:** Flask is a lightweight Python web framework. It's popular for APIs due to its simplicity, flexibility, and strong extension ecosystem."
   ]
  },
  {
   "cell_type": "markdown",
   "id": "84cc6083",
   "metadata": {},
   "source": [
    "### Q: What is routing in Flask?\n",
    "\n",
    "**A:** Routing in Flask maps URLs to Python functions that handle requests and return responses."
   ]
  },
  {
   "cell_type": "markdown",
   "id": "aebec234",
   "metadata": {},
   "source": [
    "### Q: How do you create a simple Flask application?\n",
    "\n",
    "**A:** Create a Flask instance, define routes with `@app.route()`, write functions that return responses, and run the app."
   ]
  },
  {
   "cell_type": "markdown",
   "id": "92757513",
   "metadata": {},
   "source": [
    "### Q: What are HTTP methods used in RESTful APIs?\n",
    "\n",
    "**A:** Common methods include GET (retrieve), POST (create), PUT/PATCH (update), DELETE (remove)."
   ]
  },
  {
   "cell_type": "markdown",
   "id": "b7ce4732",
   "metadata": {},
   "source": [
    "### Q: What is the purpose of the @app.route() decorator in Flask?\n",
    "\n",
    "**A:** It binds a URL path to a Python function (view) to handle requests at that URL."
   ]
  },
  {
   "cell_type": "markdown",
   "id": "fc6d7bb5",
   "metadata": {},
   "source": [
    "### Q: What is the difference between GET and POST HTTP methods?\n",
    "\n",
    "**A:** GET requests retrieve data without side effects; POST submits data to be processed, often changing state."
   ]
  },
  {
   "cell_type": "markdown",
   "id": "2f940bfc",
   "metadata": {},
   "source": [
    "### Q: How do you handle errors in Flask APIs?\n",
    "\n",
    "**A:** Use error handlers with `@app.errorhandler` to return custom responses for errors."
   ]
  },
  {
   "cell_type": "markdown",
   "id": "d94724eb",
   "metadata": {},
   "source": [
    "### Q: How do you connect Flask to a SQL database?\n",
    "\n",
    "**A:** Use extensions like Flask-SQLAlchemy to connect and interact with SQL databases."
   ]
  },
  {
   "cell_type": "markdown",
   "id": "a198f30d",
   "metadata": {},
   "source": [
    "### Q: What is the role of Flask-SQLAlchemy?\n",
    "\n",
    "**A:** It integrates SQLAlchemy ORM with Flask to simplify database operations."
   ]
  },
  {
   "cell_type": "markdown",
   "id": "66b79a12",
   "metadata": {},
   "source": [
    "### Q: What are Flask blueprints, and how are they useful?\n",
    "\n",
    "**A:** Blueprints organize routes and code into reusable modules for better app structure."
   ]
  },
  {
   "cell_type": "markdown",
   "id": "1917c36e",
   "metadata": {},
   "source": [
    "### Q: What is the purpose of Flask's request object?\n",
    "\n",
    "**A:** It provides access to incoming request data like form inputs, JSON, headers."
   ]
  },
  {
   "cell_type": "markdown",
   "id": "1448030c",
   "metadata": {},
   "source": [
    "### Q: How do you create a RESTful API endpoint using Flask?\n",
    "\n",
    "**A:** Define a route with `@app.route()`, specify HTTP methods, and return JSON responses."
   ]
  },
  {
   "cell_type": "markdown",
   "id": "c5068e9e",
   "metadata": {},
   "source": [
    "### Q: What is the purpose of Flask's jsonify() function?\n",
    "\n",
    "**A:** It converts Python dictionaries/lists into JSON responses with the correct MIME type."
   ]
  },
  {
   "cell_type": "markdown",
   "id": "928c33ba",
   "metadata": {},
   "source": [
    "### Q: Explain Flask’s url_for() function\n",
    "\n",
    "**A:** It generates URLs dynamically for routes based on the function name, useful for avoiding hardcoding."
   ]
  },
  {
   "cell_type": "markdown",
   "id": "73b0c3ae",
   "metadata": {},
   "source": [
    "### Q: How does Flask handle static files (CSS, JavaScript, etc.)?\n",
    "\n",
    "**A:** Static files are placed in the `/static` folder and served automatically under `/static` URL."
   ]
  },
  {
   "cell_type": "markdown",
   "id": "ed43df0a",
   "metadata": {},
   "source": [
    "### Q: What is an API specification, and how does it help in building a Flask API?\n",
    "\n",
    "**A:** An API spec describes the API structure, which helps in development, testing, and documentation."
   ]
  },
  {
   "cell_type": "markdown",
   "id": "b2e0fcb8",
   "metadata": {},
   "source": [
    "### Q: What are HTTP status codes, and why are they important in a Flask API?\n",
    "\n",
    "**A:** They indicate the result of a request (e.g., 200 OK, 404 Not Found) and guide client behavior."
   ]
  },
  {
   "cell_type": "markdown",
   "id": "97e63be1",
   "metadata": {},
   "source": [
    "### Q: How do you handle POST requests in Flask?\n",
    "\n",
    "**A:** Check for `POST` in route methods, access data via `request.form` or `request.json`, and process accordingly."
   ]
  },
  {
   "cell_type": "markdown",
   "id": "d2a41832",
   "metadata": {},
   "source": [
    "### Q: How would you secure a Flask API?\n",
    "\n",
    "**A:** Use authentication (like tokens or OAuth), HTTPS, input validation, and rate limiting."
   ]
  },
  {
   "cell_type": "markdown",
   "id": "2906ac1c",
   "metadata": {},
   "source": [
    "### Q: What is the significance of the Flask-RESTful extension?\n",
    "\n",
    "**A:** It provides tools to build REST APIs with resource routing, request parsing, and response formatting."
   ]
  },
  {
   "cell_type": "markdown",
   "id": "55613c9c",
   "metadata": {},
   "source": [
    "### Q: What is the role of Flask’s session object?\n",
    "\n",
    "**A:** It stores user session data across requests securely using signed cookies."
   ]
  },
  {
   "cell_type": "markdown",
   "id": "eb1f44c3",
   "metadata": {},
   "source": [
    "### Q: How do you create a basic Flask application?\n",
    "\n",
    "**A:**\n",
    "```python\n",
    "from flask import Flask\n",
    "app = Flask(__name__)\n",
    "\n",
    "@app.route('/')\n",
    "def home():\n",
    "    return \"Hello, Flask!\"\n",
    "\n",
    "if __name__ == '__main__':\n",
    "    app.run(debug=True)\n",
    "```"
   ]
  },
  {
   "cell_type": "markdown",
   "id": "033b7995",
   "metadata": {},
   "source": [
    "### Q: How do you serve static files like images or CSS in Flask?\n",
    "\n",
    "**A:**\n",
    "Place files in a `static` folder. Access via `/static/filename`. No code needed."
   ]
  },
  {
   "cell_type": "markdown",
   "id": "42bd6b7d",
   "metadata": {},
   "source": [
    "### Q: How do you define different routes with different HTTP methods in Flask?\n",
    "\n",
    "**A:**\n",
    "```python\n",
    "@app.route('/submit', methods=['GET', 'POST'])\n",
    "def submit():\n",
    "    if request.method == 'POST':\n",
    "        return 'Form submitted!'\n",
    "    return 'Show form here'\n",
    "```"
   ]
  },
  {
   "cell_type": "markdown",
   "id": "9dc0f4a3",
   "metadata": {},
   "source": [
    "### Q: How do you render HTML templates in Flask?\n",
    "\n",
    "**A:**\n",
    "```python\n",
    "from flask import render_template\n",
    "\n",
    "@app.route('/')\n",
    "def home():\n",
    "    return render_template('index.html')\n",
    "```"
   ]
  },
  {
   "cell_type": "markdown",
   "id": "bb5190f4",
   "metadata": {},
   "source": [
    "### Q: How can you generate URLs for routes in Flask using url_for?\n",
    "\n",
    "**A:**\n",
    "```python\n",
    "from flask import url_for\n",
    "\n",
    "url_for('home')  # Returns URL for home function\n",
    "```"
   ]
  },
  {
   "cell_type": "markdown",
   "id": "9f1be647",
   "metadata": {},
   "source": [
    "### Q: How do you handle forms in Flask?\n",
    "\n",
    "**A:**\n",
    "```python\n",
    "from flask import request\n",
    "\n",
    "@app.route('/form', methods=['GET', 'POST'])\n",
    "def form():\n",
    "    if request.method == 'POST':\n",
    "        name = request.form['name']\n",
    "        return f'Hello, {name}!'\n",
    "    return render_template('form.html')\n",
    "```"
   ]
  },
  {
   "cell_type": "markdown",
   "id": "1306117e",
   "metadata": {},
   "source": [
    "### Q: How can you validate form data in Flask?\n",
    "\n",
    "**A:**\n",
    "Use Flask-WTF extension or manually check form values in your route function."
   ]
  },
  {
   "cell_type": "markdown",
   "id": "d2b7c07f",
   "metadata": {},
   "source": [
    "### Q: How do you manage sessions in Flask?\n",
    "\n",
    "**A:**\n",
    "```python\n",
    "from flask import session\n",
    "\n",
    "@app.route('/set/')\n",
    "def set():\n",
    "    session['key'] = 'value'\n",
    "    return 'Session set'\n",
    "\n",
    "@app.route('/get/')\n",
    "def get():\n",
    "    return session.get('key', 'Not set')\n",
    "```"
   ]
  },
  {
   "cell_type": "markdown",
   "id": "9c140fcf",
   "metadata": {},
   "source": [
    "### Q: How do you redirect to a different route in Flask?\n",
    "\n",
    "**A:**\n",
    "```python\n",
    "from flask import redirect, url_for\n",
    "\n",
    "@app.route('/old')\n",
    "def old():\n",
    "    return redirect(url_for('new'))\n",
    "\n",
    "@app.route('/new')\n",
    "def new():\n",
    "    return 'New route'\n",
    "```"
   ]
  },
  {
   "cell_type": "markdown",
   "id": "4293a85d",
   "metadata": {},
   "source": [
    "### Q: How do you handle errors in Flask (e.g., 404)?\n",
    "\n",
    "**A:**\n",
    "```python\n",
    "@app.errorhandler(404)\n",
    "def page_not_found(e):\n",
    "    return 'Page not found', 404\n",
    "```"
   ]
  },
  {
   "cell_type": "markdown",
   "id": "faaf19d1",
   "metadata": {},
   "source": [
    "### Q: How do you structure a Flask app using Blueprints?\n",
    "\n",
    "**A:**\n",
    "```python\n",
    "from flask import Blueprint\n",
    "\n",
    "bp = Blueprint('bp', __name__)\n",
    "\n",
    "@bp.route('/')\n",
    "def index():\n",
    "    return 'Blueprint route'\n",
    "\n",
    "app.register_blueprint(bp, url_prefix='/bp')\n",
    "```"
   ]
  },
  {
   "cell_type": "markdown",
   "id": "d0649654",
   "metadata": {},
   "source": [
    "### Q: How do you define a custom Jinja filter in Flask?\n",
    "\n",
    "**A:**\n",
    "```python\n",
    "@app.template_filter('reverse')\n",
    "def reverse_filter(s):\n",
    "    return s[::-1]\n",
    "```"
   ]
  },
  {
   "cell_type": "markdown",
   "id": "d588ec44",
   "metadata": {},
   "source": [
    "### Q: How can you redirect with query parameters in Flask?\n",
    "\n",
    "**A:**\n",
    "```python\n",
    "from flask import redirect, url_for\n",
    "\n",
    "return redirect(url_for('search', query='flask'))\n",
    "```"
   ]
  },
  {
   "cell_type": "markdown",
   "id": "ba8f8d54",
   "metadata": {},
   "source": [
    "### Q: How do you return JSON responses in Flask?\n",
    "\n",
    "**A:**\n",
    "```python\n",
    "from flask import jsonify\n",
    "\n",
    "@app.route('/api')\n",
    "def api():\n",
    "    return jsonify({'name': 'Flask', 'type': 'Framework'})\n",
    "```"
   ]
  },
  {
   "cell_type": "markdown",
   "id": "dcc285cc",
   "metadata": {},
   "source": [
    "### Q: How do you capture URL parameters in Flask?\n",
    "\n",
    "**A:**\n",
    "```python\n",
    "@app.route('/user/<username>')\n",
    "def user(username):\n",
    "    return f'User: {username}'\n",
    "```"
   ]
  }
 ],
 "metadata": {},
 "nbformat": 4,
 "nbformat_minor": 5
}
